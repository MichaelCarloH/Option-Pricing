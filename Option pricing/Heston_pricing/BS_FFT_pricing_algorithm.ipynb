{
 "cells": [
  {
   "cell_type": "code",
   "execution_count": 5,
   "metadata": {},
   "outputs": [],
   "source": [
    "# imports \n",
    "import math\n",
    "import numpy as np\n",
    "import scipy\n",
    "from my_utils import black_scholes_price \n",
    "from my_utils import cf_BlackScholes"
   ]
  },
  {
   "cell_type": "markdown",
   "metadata": {},
   "source": [
    "Price a 3-months European call option with the Black-Scholes\n",
    "model. The initial stock price S0 equals 100, q = 0.01, r = 0.05\n",
    "and σ = 0.25, K = 90, 95, 100, 105 and 110. Use the following\n",
    "pricing methods"
   ]
  },
  {
   "cell_type": "code",
   "execution_count": 6,
   "metadata": {},
   "outputs": [],
   "source": [
    "# variables \n",
    "S0 = 100\n",
    "q = 0.01\n",
    "r = 0.05\n",
    "sigma = 0.25\n",
    "K = [90, 95, 100, 105, 110]\n",
    "T = 3/12"
   ]
  },
  {
   "cell_type": "markdown",
   "metadata": {},
   "source": [
    "Price EC using Black Scholes"
   ]
  },
  {
   "cell_type": "code",
   "execution_count": 7,
   "metadata": {},
   "outputs": [
    {
     "name": "stdout",
     "output_type": "stream",
     "text": [
      "Call Option Prices: [12.0002  8.3561  5.4584  3.3385  1.9129]\n"
     ]
    }
   ],
   "source": [
    "# price EC using Black Scholes\n",
    "call_bs = []\n",
    "for strike in K:\n",
    "    call_price = black_scholes_price(S0, strike, T, r, q, sigma, 0)\n",
    "    call_bs.append(round(call_price,4))\n",
    "\n",
    "# Convert the list to a NumPy array\n",
    "call_bs_array = np.array(call_bs)\n",
    "\n",
    "print(f\"Call Option Prices: {call_bs_array}\")\n"
   ]
  },
  {
   "cell_type": "markdown",
   "metadata": {},
   "source": [
    "Price EC using FFT where the integral in the Carr-Madan formula is\n",
    "approximated by the rectangular rule"
   ]
  },
  {
   "cell_type": "code",
   "execution_count": 8,
   "metadata": {},
   "outputs": [
    {
     "name": "stdout",
     "output_type": "stream",
     "text": [
      "0.006135923151542565\n",
      "12.566370614359172\n"
     ]
    }
   ],
   "source": [
    "# variables\n",
    "eta = 0.25\n",
    "N = 4096\n",
    "alpha = 1.5\n",
    "lambda_ = (2 * math.pi) / (N* eta)\n",
    "b = (N * lambda_) / 2\n",
    "print(lambda_)\n",
    "print(b)"
   ]
  },
  {
   "cell_type": "code",
   "execution_count": 9,
   "metadata": {},
   "outputs": [
    {
     "name": "stdout",
     "output_type": "stream",
     "text": [
      "[-12.56637061 -12.56023469 -12.55409877 ...  12.54796284  12.55409877\n",
      "  12.56023469]\n"
     ]
    }
   ],
   "source": [
    "# Define a finer grid from the original strikes to interpolate on (from min to max log strike)\n",
    "log_strikes = np.arange(-b, b, lambda_)\n",
    "print(log_strikes)"
   ]
  },
  {
   "cell_type": "code",
   "execution_count": 10,
   "metadata": {},
   "outputs": [
    {
     "name": "stdout",
     "output_type": "stream",
     "text": [
      "[0.00000e+00 2.50000e-01 5.00000e-01 ... 1.02325e+03 1.02350e+03\n",
      " 1.02375e+03]\n"
     ]
    }
   ],
   "source": [
    "# Grid for the Fourier transform variable\n",
    "v = np.arange(0, N * eta, eta) \n",
    "print(v)\n",
    "u = v - (alpha + 1) * 1j"
   ]
  },
  {
   "cell_type": "code",
   "execution_count": 11,
   "metadata": {},
   "outputs": [
    {
     "name": "stdout",
     "output_type": "stream",
     "text": [
      "[27804.87099528    +0.j         17024.27918315+21312.32603288j\n",
      " -5967.41147859+25116.12836105j ...    -0.            -0.j\n",
      "    -0.            -0.j            -0.            -0.j        ]\n"
     ]
    }
   ],
   "source": [
    "# Define rho (g of x) using the characteristic function evaluated at (v - (alpha + 1) * i)\n",
    "rho = np.exp(-r * T) * cf_BlackScholes(u, S0, r, q, sigma, T) / \\\n",
    "    (alpha**2 + alpha - v**2 + 1j * (2 * alpha + 1) * v)\n",
    "print(rho)"
   ]
  },
  {
   "cell_type": "code",
   "execution_count": 12,
   "metadata": {},
   "outputs": [],
   "source": [
    "# Apply the FFT using the rectangular rule\n",
    "fft_result_rectangular  = np.fft.fft(np.exp(1j * v *b) * rho * eta, N)"
   ]
  },
  {
   "cell_type": "code",
   "execution_count": 13,
   "metadata": {},
   "outputs": [],
   "source": [
    "# Simpson's Rule Coefficients\n",
    "simpson_1 = 1/3  # First coefficient\n",
    "simpson = (3 + (-1)**np.arange(2, N+1)) / 3  # Alternating coefficients starting from index 2\n",
    "simpson_int = np.concatenate(([simpson_1], simpson))  # Combine with the first coefficient\n",
    "\n",
    "# Apply Simpson's Rule correction in the FFT computation\n",
    "fft_result_simpson = np.fft.fft(np.exp(1j * v * b) * rho * eta * simpson_int)"
   ]
  },
  {
   "cell_type": "code",
   "execution_count": 14,
   "metadata": {},
   "outputs": [
    {
     "name": "stdout",
     "output_type": "stream",
     "text": [
      "[3475.60887645 3475.60887647 3475.60887649 ... 3475.6088764  3475.60887641\n",
      " 3475.60887643]\n"
     ]
    }
   ],
   "source": [
    "# Extract real part of the result\n",
    "a_rectangular = np.real(fft_result_rectangular)\n",
    "print(a_rectangular)\n",
    "a_simpson = np.real(fft_result_simpson)"
   ]
  },
  {
   "cell_type": "code",
   "execution_count": 15,
   "metadata": {},
   "outputs": [],
   "source": [
    "# Calculate call option prices using the Carr-Madan formula\n",
    "calls_rectangular = (1 / np.pi) * np.exp(-alpha * log_strikes) * a_rectangular\n",
    "calls_simpson = (1 / np.pi) * np.exp(-alpha * log_strikes) * a_simpson"
   ]
  },
  {
   "cell_type": "code",
   "execution_count": 16,
   "metadata": {},
   "outputs": [
    {
     "name": "stdout",
     "output_type": "stream",
     "text": [
      "Interpolated Call Option Prices for K = [ 90  95 100 105 110] using Rectangular Rule: [13.29598765  9.55088183  6.56474494  4.36676414  2.87179674]\n",
      "Interpolated Call Option Prices for K = [ 90  95 100 105 110] using Simpson's Rule: [12.00024924  8.35608051  5.45842405  3.33851781  1.91285529]\n"
     ]
    }
   ],
   "source": [
    "from scipy.interpolate import interp1d\n",
    "\n",
    "# Reconstruct strike prices from log-strikes\n",
    "KK = np.exp(log_strikes)\n",
    "\n",
    "# Compute call prices using FFT pricing formula for both rules\n",
    "calls_rectangular = (1 / np.pi) * np.exp(-alpha * log_strikes) * a_rectangular\n",
    "calls_simpson = (1 / np.pi) * np.exp(-alpha * log_strikes) * a_simpson\n",
    "\n",
    "# Define specific strike prices for interpolation\n",
    "specific_strikes = np.array([90, 95, 100, 105, 110])\n",
    "\n",
    "# Create cubic spline interpolation functions\n",
    "spline_rectangular = interp1d(KK, calls_rectangular, kind='cubic', fill_value=\"extrapolate\")\n",
    "spline_simpson = interp1d(KK, calls_simpson, kind='cubic', fill_value=\"extrapolate\")\n",
    "\n",
    "# Get interpolated option prices for specific strikes\n",
    "interpolated_rectangular = spline_rectangular(specific_strikes)\n",
    "interpolated_simpson = spline_simpson(specific_strikes)\n",
    "\n",
    "# Print results\n",
    "print(f\"Interpolated Call Option Prices for K = {specific_strikes} using Rectangular Rule: {interpolated_rectangular}\")\n",
    "print(f\"Interpolated Call Option Prices for K = {specific_strikes} using Simpson's Rule: {interpolated_simpson}\")\n"
   ]
  },
  {
   "cell_type": "code",
   "execution_count": 17,
   "metadata": {},
   "outputs": [
    {
     "name": "stdout",
     "output_type": "stream",
     "text": [
      "\n",
      "Call Option Prices using Black-Scholes:\n",
      "[12.0002  8.3561  5.4584  3.3385  1.9129]\n",
      "\n",
      "Call Option Prices using Rectangular Rule:\n",
      "[13.29598765  9.55088183  6.56474494  4.36676414  2.87179674]\n",
      "\n",
      "Call Option Prices using Simpson's Rule:\n",
      "[12.00024924  8.35608051  5.45842405  3.33851781  1.91285529]\n"
     ]
    }
   ],
   "source": [
    "# Print the call option prices\n",
    "print(\"\\nCall Option Prices using Black-Scholes:\")\n",
    "print(call_bs_array)\n",
    "\n",
    "print(\"\\nCall Option Prices using Rectangular Rule:\")\n",
    "print(interpolated_rectangular)\n",
    "\n",
    "print(\"\\nCall Option Prices using Simpson's Rule:\")\n",
    "print(interpolated_simpson)"
   ]
  }
 ],
 "metadata": {
  "kernelspec": {
   "display_name": "venv",
   "language": "python",
   "name": "python3"
  },
  "language_info": {
   "codemirror_mode": {
    "name": "ipython",
    "version": 3
   },
   "file_extension": ".py",
   "mimetype": "text/x-python",
   "name": "python",
   "nbconvert_exporter": "python",
   "pygments_lexer": "ipython3",
   "version": "3.12.3"
  }
 },
 "nbformat": 4,
 "nbformat_minor": 2
}
