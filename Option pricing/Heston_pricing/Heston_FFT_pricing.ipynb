{
 "cells": [
  {
   "cell_type": "markdown",
   "metadata": {},
   "source": [
    "Heston’s stochastic volatility model:\n",
    "$$\n",
    "\\frac{dS_t}{S_t} = (r − q)dt + \\sqrt{v_t} dW_t , \\quad S_0 \\geq 0\n",
    "$$\n",
    "$$\n",
    "dv_t = \\kappa(\\eta − v_t)dt + \\theta \\sqrt{v_t} d\\tilde{W}_t , \\quad v_0 = \\sigma^2_0 \\geq 0\n",
    "$$\n",
    "where \\(W_t\\) and \\(\\tilde{W}_t\\) are correlated Brownian motions (correlation \\(\\rho\\)).\n",
    "\n",
    "Parameters:\n",
    "- Speed/rate of mean reversion: (kappa > 0)\n",
    "- Level of mean reversion: (eta > 0)\n",
    "- Vol-of-vol: (theta > 0)\n",
    "- Initial variance: (v_0 > 0)\n",
    "- Correlation vol-stock: (-1 < rho < 1)"
   ]
  },
  {
   "cell_type": "code",
   "execution_count": null,
   "metadata": {},
   "outputs": [],
   "source": [
    "#imports\n",
    "import numpy as np\n",
    "import numpy as np\n",
    "import matplotlib.pyplot as plt\n",
    "import math"
   ]
  },
  {
   "cell_type": "code",
   "execution_count": 2,
   "metadata": {},
   "outputs": [],
   "source": [
    "# Hetson variables !!eta \n",
    "V0 = 0.05\n",
    "kappa = 0.5 \n",
    "eta = 0.05\n",
    "theta = 0.2\n",
    "rho = -0.75"
   ]
  },
  {
   "cell_type": "code",
   "execution_count": 3,
   "metadata": {},
   "outputs": [],
   "source": [
    "# Heston characteristic function\n",
    "\n",
    "def cf_Heston(u, S0, r, q, V0, kappa, eta, theta, rho, T):\n",
    "    i = complex(0, 1)\n",
    "    d = np.sqrt((rho * theta * u * i - kappa)**2 - (theta**2) * (-i * u - u**2))\n",
    "    g = (kappa - rho * theta * u * i - d) / (kappa - rho * theta * u * i + d)\n",
    "    \n",
    "    term1 = i * u * (np.log(S0) + (r - q) * T)\n",
    "    term2 = (eta * kappa / theta**2) * ((kappa - rho * theta * u * i - d) * T - 2 * np.log((1 - g * np.exp(-d * T)) / (1 - g)))\n",
    "    term3 = (V0 / theta**2) * (kappa - rho * theta * u * i - d) * (1 - np.exp(-d * T)) / (1 - g * np.exp(-d * T))\n",
    "    \n",
    "    return np.exp(term1 + term2 + term3)"
   ]
  },
  {
   "cell_type": "code",
   "execution_count": 4,
   "metadata": {},
   "outputs": [
    {
     "name": "stdout",
     "output_type": "stream",
     "text": [
      "(-0.07824684212425079-0.9706940353985339j)\n"
     ]
    }
   ],
   "source": [
    "# test cf_heston (1,1) = -0-0879 - 0.9699j\n",
    "result = cf_Heston(1, 100, 0.05, 0, V0, kappa, eta, theta, rho, 1)\n",
    "print (result)"
   ]
  },
  {
   "cell_type": "code",
   "execution_count": 5,
   "metadata": {},
   "outputs": [],
   "source": [
    "# Market data\n",
    "S0 = 100\n",
    "q = 0.01\n",
    "r = 0.05\n",
    "sigma = 0.25\n",
    "K = [90, 95, 100, 105, 110]\n",
    "T = 3/12"
   ]
  },
  {
   "cell_type": "code",
   "execution_count": 6,
   "metadata": {},
   "outputs": [
    {
     "name": "stdout",
     "output_type": "stream",
     "text": [
      "0.006135923151542565\n",
      "12.566370614359172\n"
     ]
    }
   ],
   "source": [
    "# variables for FFT pricing (eta != eta_cm)\n",
    "eta_cm = 0.25\n",
    "N = 4096\n",
    "alpha = 1.5\n",
    "lambda_ = (2 * math.pi) / (N* eta_cm)\n",
    "b = (N * lambda_) / 2\n",
    "print(lambda_)\n",
    "print(b)"
   ]
  },
  {
   "cell_type": "code",
   "execution_count": 7,
   "metadata": {},
   "outputs": [
    {
     "name": "stdout",
     "output_type": "stream",
     "text": [
      "[-12.56637061 -12.56023469 -12.55409877 ...  12.54796284  12.55409877\n",
      "  12.56023469]\n"
     ]
    }
   ],
   "source": [
    "# Define a finer grid from the original strikes to interpolate on (from min to max log strike)\n",
    "log_strikes = np.arange(-b, b, lambda_)\n",
    "print(log_strikes)"
   ]
  },
  {
   "cell_type": "code",
   "execution_count": 8,
   "metadata": {},
   "outputs": [],
   "source": [
    "# Grid for the Fourier transform variable\n",
    "v = np.arange(0, N * eta_cm, eta_cm) \n",
    "u = v - (alpha + 1) * 1j"
   ]
  },
  {
   "cell_type": "code",
   "execution_count": 9,
   "metadata": {},
   "outputs": [
    {
     "name": "stdout",
     "output_type": "stream",
     "text": [
      "-0.75\n"
     ]
    }
   ],
   "source": [
    "# Define rho (g of x) using the characteristic function evaluated at (v - (alpha + 1) * i)\n",
    "rho_cm = np.exp(-r * T) * cf_Heston(u, S0, r, q, V0, kappa, eta, theta, rho, T) / \\\n",
    "    (alpha**2 + alpha - v**2 + 1j * (2 * alpha + 1) * v)\n",
    "print(rho)"
   ]
  },
  {
   "cell_type": "code",
   "execution_count": 10,
   "metadata": {},
   "outputs": [],
   "source": [
    "# Apply the FFT using the rectangular rule\n",
    "fft_result_rectangular  = np.fft.fft(np.exp(1j * v *b) * rho_cm * eta_cm, N)"
   ]
  },
  {
   "cell_type": "code",
   "execution_count": 11,
   "metadata": {},
   "outputs": [],
   "source": [
    "# Extract real part of the result\n",
    "a_rectangular = np.real(fft_result_rectangular)"
   ]
  },
  {
   "cell_type": "code",
   "execution_count": 12,
   "metadata": {},
   "outputs": [],
   "source": [
    "# Calculate call option prices using the Carr-Madan formula\n",
    "calls_rectangular = (1 / np.pi) * np.exp(-alpha * log_strikes) * a_rectangular"
   ]
  },
  {
   "cell_type": "code",
   "execution_count": 13,
   "metadata": {},
   "outputs": [],
   "source": [
    "# Simpson's Rule Coefficients\n",
    "simpson_1 = 1/3  # First coefficient\n",
    "simpson = (3 + (-1)**np.arange(2, N+1)) / 3  # Alternating coefficients starting from index 2\n",
    "simpson_int = np.concatenate(([simpson_1], simpson))  # Combine with the first coefficient\n",
    "\n",
    "# Apply Simpson's Rule correction in the FFT computation\n",
    "fft_result_simpson = np.fft.fft(np.exp(1j * v * b) * rho_cm * eta_cm * simpson_int)"
   ]
  },
  {
   "cell_type": "code",
   "execution_count": 14,
   "metadata": {},
   "outputs": [],
   "source": [
    "# Extract real part of the result\n",
    "a_simpson = np.real(fft_result_simpson)"
   ]
  },
  {
   "cell_type": "code",
   "execution_count": 15,
   "metadata": {},
   "outputs": [],
   "source": [
    "# Calculate call option prices using the Carr-Madan formula\n",
    "calls_simpson = (1 / np.pi) * np.exp(-alpha * log_strikes) * a_simpson"
   ]
  },
  {
   "cell_type": "code",
   "execution_count": 16,
   "metadata": {},
   "outputs": [
    {
     "name": "stdout",
     "output_type": "stream",
     "text": [
      "Interpolated Call Option Prices for K = [ 90  95 100 105 110] using Rectangular Rule: [13.15635534  9.21922733  6.02001848  3.68348957  2.18923837]\n",
      "Interpolated Call Option Prices for K = [ 90  95 100 105 110] using Simpson's Rule: [11.86948409  8.03260243  4.92126852  2.66227987  1.23685927]\n"
     ]
    }
   ],
   "source": [
    "from scipy.interpolate import interp1d\n",
    "\n",
    "# Reconstruct strike prices from log-strikes\n",
    "KK = np.exp(log_strikes)\n",
    "\n",
    "# Compute call prices using FFT pricing formula for both rules\n",
    "calls_rectangular = (1 / np.pi) * np.exp(-alpha * log_strikes) * a_rectangular\n",
    "calls_simpson = (1 / np.pi) * np.exp(-alpha * log_strikes) * a_simpson\n",
    "\n",
    "# Define specific strike prices for interpolation\n",
    "specific_strikes = np.array([90, 95, 100, 105, 110])\n",
    "\n",
    "# Create cubic spline interpolation functions\n",
    "spline_rectangular = interp1d(KK, calls_rectangular, kind='cubic', fill_value=\"extrapolate\")\n",
    "spline_simpson = interp1d(KK, calls_simpson, kind='cubic', fill_value=\"extrapolate\")\n",
    "\n",
    "# Get interpolated option prices for specific strikes\n",
    "interpolated_rectangular = spline_rectangular(specific_strikes)\n",
    "interpolated_simpson = spline_simpson(specific_strikes)\n",
    "\n",
    "# Print results\n",
    "print(f\"Interpolated Call Option Prices for K = {specific_strikes} using Rectangular Rule: {interpolated_rectangular}\")\n",
    "print(f\"Interpolated Call Option Prices for K = {specific_strikes} using Simpson's Rule: {interpolated_simpson}\")\n"
   ]
  },
  {
   "cell_type": "code",
   "execution_count": null,
   "metadata": {},
   "outputs": [],
   "source": [
    "# Strike prices\n",
    "K = np.array([90, 95, 100, 105, 110])\n",
    "\n",
    "# Interpolated Call Option Prices\n",
    "rectangular_prices = np.array([13.15635534, 9.21922733, 6.02001848, 3.68348957, 2.18923837])\n",
    "simpsons_prices = np.array([11.86948409, 8.03260243, 4.92126852, 2.66227987, 1.23685927])\n",
    "\n",
    "# Plot the results\n",
    "plt.figure(figsize=(8, 5))\n",
    "plt.plot(K, rectangular_prices, 'o-', label=\"Rectangular Rule\", markersize=6)\n",
    "plt.plot(K, simpsons_prices, 's-', label=\"Simpson's Rule\", markersize=6)\n",
    "\n",
    "# Labels and title\n",
    "plt.xlabel(\"Strike Price (K)\")\n",
    "plt.ylabel(\"Interpolated Call Option Price\")\n",
    "plt.title(\"Comparison of Interpolated Call Prices\")\n",
    "plt.legend()\n",
    "plt.grid(True)\n",
    "\n",
    "# Show the plot\n",
    "plt.show()\n"
   ]
  }
 ],
 "metadata": {
  "kernelspec": {
   "display_name": "venv",
   "language": "python",
   "name": "python3"
  },
  "language_info": {
   "codemirror_mode": {
    "name": "ipython",
    "version": 3
   },
   "file_extension": ".py",
   "mimetype": "text/x-python",
   "name": "python",
   "nbconvert_exporter": "python",
   "pygments_lexer": "ipython3",
   "version": "3.12.3"
  }
 },
 "nbformat": 4,
 "nbformat_minor": 2
}
