{
 "cells": [
  {
   "cell_type": "markdown",
   "metadata": {},
   "source": [
    "Derive the characteristic function of the logarithm of the stock\n",
    "price at maturity (log(ST )) in the Black-Scholes model"
   ]
  },
  {
   "cell_type": "code",
   "execution_count": 3,
   "metadata": {},
   "outputs": [],
   "source": [
    "#imports\n",
    "import numpy as np"
   ]
  },
  {
   "cell_type": "code",
   "execution_count": 8,
   "metadata": {},
   "outputs": [],
   "source": [
    "# variables \n",
    "N = 4096\n",
    "alpha = 1.5\n",
    "eta = 0.25\n",
    "S0 = 100\n",
    "T = 1\n",
    "r = 0.05\n",
    "q = 0\n",
    "sigma = 0.2\n",
    "u = 1"
   ]
  },
  {
   "cell_type": "markdown",
   "metadata": {},
   "source": [
    "# Carr Madan formula in BS\n",
    "\n",
    "$$\n",
    "\\varphi_{BS}(u; T) = \\exp\\left(iu\\left(\\log(S_0) + (r - q - \\frac{\\sigma^2}{2})T\\right)\\right) \\exp\\left(-\\frac{1}{2} \\sigma^2 T u^2\\right)\n",
    "$$\n"
   ]
  },
  {
   "cell_type": "code",
   "execution_count": 9,
   "metadata": {},
   "outputs": [],
   "source": [
    "def characteristic_function(u, S0, r, q, sigma, T):\n",
    "    return np.exp(1j * u * (np.log(S0) + (r - q - 0.5 * sigma**2) * T) - 0.5 * u**2 * sigma**2 * T)"
   ]
  },
  {
   "cell_type": "code",
   "execution_count": 14,
   "metadata": {},
   "outputs": [
    {
     "name": "stdout",
     "output_type": "stream",
     "text": [
      "(-0.0756-0.9773j)\n"
     ]
    }
   ],
   "source": [
    "phi_BS = characteristic_function(u, S0, r, q, sigma, T)\n",
    "phi_BS = complex(round(phi_BS.real, 4), round(phi_BS.imag, 4))\n",
    "print(phi_BS)"
   ]
  }
 ],
 "metadata": {
  "kernelspec": {
   "display_name": "venv",
   "language": "python",
   "name": "python3"
  },
  "language_info": {
   "codemirror_mode": {
    "name": "ipython",
    "version": 3
   },
   "file_extension": ".py",
   "mimetype": "text/x-python",
   "name": "python",
   "nbconvert_exporter": "python",
   "pygments_lexer": "ipython3",
   "version": "3.12.3"
  }
 },
 "nbformat": 4,
 "nbformat_minor": 2
}
