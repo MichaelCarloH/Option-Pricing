{
 "cells": [
  {
   "cell_type": "markdown",
   "metadata": {},
   "source": [
    "## Notebook: Calibration of the Heston Model  \n",
    "\n",
    "This notebook focuses on pricing a **1-year call option** using the **Heston model** with the following parameters:  \n",
    "\n",
    "- $v_0 = \\sigma^2 = 0.05$  \n",
    "- $\\kappa = 0.5$  \n",
    "- $\\eta = 0.05$  \n",
    "- $\\theta = 0.2$  \n",
    "- $\\rho = -0.75$  \n",
    "- $S_0 = 100$  \n",
    "- $q = 0.01$ (dividend yield)  \n",
    "- $r = 0.05$ (risk-free rate)  \n",
    "\n",
    "### **Strike Prices**  \n",
    "We consider three different strike prices:  \n",
    "$$K = 90, 100, 110$$  \n",
    "\n",
    "### **Pricing Methods**  \n",
    "The option price is computed using the following methods:  \n",
    "1. **Fast Fourier Transform (FFT)** with Simpson’s rule *(see Example Session 2)*.  \n",
    "2. **Monte Carlo simulation** using the **Euler scheme**.  \n",
    "3. **Monte Carlo simulation** using the **Milstein scheme**.  \n"
   ]
  },
  {
   "cell_type": "code",
   "execution_count": 2,
   "metadata": {},
   "outputs": [],
   "source": [
    "# imports \n",
    "from tiny_pricing_utils import *\n",
    "import numpy as np"
   ]
  },
  {
   "cell_type": "code",
   "execution_count": 3,
   "metadata": {},
   "outputs": [],
   "source": [
    "# Market data\n",
    "S0 = 100\n",
    "q = 0.01\n",
    "r = 0.05\n",
    "sigma = 0.25\n",
    "K = [90, 100, 110]\n",
    "T = 1"
   ]
  },
  {
   "cell_type": "code",
   "execution_count": 4,
   "metadata": {},
   "outputs": [],
   "source": [
    "# Hetson variables !!eta \n",
    "V0 = 0.05\n",
    "kappa = 0.5 \n",
    "eta = 0.05\n",
    "theta = 0.2\n",
    "rho = -0.75"
   ]
  },
  {
   "cell_type": "code",
   "execution_count": 5,
   "metadata": {},
   "outputs": [
    {
     "name": "stdout",
     "output_type": "stream",
     "text": [
      "0.006135923151542565\n",
      "12.566370614359172\n"
     ]
    }
   ],
   "source": [
    "# variables for FFT pricing (eta != eta_cm)\n",
    "eta_cm = 0.25\n",
    "N = 4096\n",
    "alpha = 1.5\n",
    "lambda_ = (2 * np.pi) / (N* eta_cm)\n",
    "b = (N * lambda_) / 2\n",
    "print(lambda_)\n",
    "print(b)"
   ]
  },
  {
   "cell_type": "code",
   "execution_count": 6,
   "metadata": {},
   "outputs": [
    {
     "name": "stdout",
     "output_type": "stream",
     "text": [
      "Interpolated Option Prices using Simpson's Rule: [16.93747985 10.6163149   5.86707143]\n"
     ]
    }
   ],
   "source": [
    "# Create an instance of the Heston model with the provided data\n",
    "heston = HestonModel(S0=S0, r=r, q=q, V0=V0, kappa=kappa, eta=eta, theta=theta, rho=rho, T=T, \n",
    "                         alpha=alpha, N=N, eta_cm=eta_cm, b=b, strikes=K)\n",
    "\n",
    "# Simpson's Rule coefficients for pricing\n",
    "simpson_1 = 1 / 3  # First coefficient\n",
    "simpson_weights = (3 + (-1) ** np.arange(2, N + 1)) / 3  # Alternating coefficients starting from index 2\n",
    "simpson_weights = np.concatenate(([simpson_1], simpson_weights))  # Combine with the first coefficient\n",
    "\n",
    "# Price options using Simpson's rule\n",
    "option_prices_simpson = heston.price_options(rule=\"simpson\", simpson_weights=simpson_weights)\n",
    "\n",
    "# Print results for visual confirmation\n",
    "print(f\"Interpolated Option Prices using Simpson's Rule: {option_prices_simpson}\")"
   ]
  },
  {
   "cell_type": "code",
   "execution_count": 7,
   "metadata": {},
   "outputs": [],
   "source": [
    "#Monte Carlo pricing with Euler scheme\n",
    "N = 252\n",
    "M = 100000\n",
    "np.random.seed(0)\n"
   ]
  },
  {
   "cell_type": "code",
   "execution_count": 8,
   "metadata": {},
   "outputs": [],
   "source": [
    "def simulate_stock_paths_euler(S0, r, q, v0, kappa, eta, theta, rho, T, N, M):\n",
    "    dt = T / N\n",
    "    stock_paths = np.zeros((M, N + 1))\n",
    "    v = np.zeros((M, N + 1))\n",
    "    \n",
    "    stock_paths[:, 0] = S0\n",
    "    v[:, 0] = v0\n",
    "    \n",
    "    # Generate correlated random numbers\n",
    "    epsilon1 = np.random.randn(M, N)\n",
    "    epsilon2 = rho * epsilon1 + np.sqrt(1 - rho ** 2) * np.random.randn(M, N)\n",
    "    \n",
    "    for i in range(1, N + 1):\n",
    "        v[:, i] = np.maximum(0, v[:, i-1] + kappa * (eta - v[:, i-1]) * dt \n",
    "                             + theta * np.sqrt(np.maximum(0, v[:, i-1]) * dt) * epsilon2[:, i-1])\n",
    "        \n",
    "        stock_paths[:, i] = stock_paths[:, i-1] * np.exp(\n",
    "            (r - q - 0.5 * v[:, i-1]) * dt + np.sqrt(v[:, i-1] * dt) * epsilon1[:, i-1]\n",
    "        )\n",
    "    \n",
    "    return stock_paths"
   ]
  },
  {
   "cell_type": "code",
   "execution_count": 11,
   "metadata": {},
   "outputs": [],
   "source": [
    "def price_european_call_euler(S0, K, r, q, v0, kappa, eta, theta, rho, T, N, M):\n",
    "    stock_paths = simulate_stock_paths_euler(S0, r, q, v0, kappa, eta, theta, rho, T, N, M)\n",
    "    payoffs = np.maximum(stock_paths[:, -1] - K, 0)  # Use the last column\n",
    "    option_price = np.exp(-r * T) * np.mean(payoffs)\n",
    "    return option_price\n",
    "\n"
   ]
  },
  {
   "cell_type": "code",
   "execution_count": 12,
   "metadata": {},
   "outputs": [
    {
     "name": "stdout",
     "output_type": "stream",
     "text": [
      "European Call Option Price (K=90): 16.97\n",
      "European Call Option Price (K=100): 10.67\n",
      "European Call Option Price (K=110): 5.88\n"
     ]
    }
   ],
   "source": [
    "# Compute prices for different strikes\n",
    "for K in [90, 100, 110]:\n",
    "    ec_price = price_european_call_euler(S0, K, r, q, V0, kappa, eta, theta, rho, T, N, M)\n",
    "    print(f\"European Call Option Price (K={K}): {ec_price:.2f}\")\n"
   ]
  },
  {
   "cell_type": "code",
   "execution_count": null,
   "metadata": {},
   "outputs": [],
   "source": [
    "def simulate_stock_paths_milstein(S0, r, q, v0, kappa, eta, theta, rho, T, N, M):\n",
    "    dt = T / N\n",
    "    stock_paths = np.zeros((M, N + 1))\n",
    "    v = np.zeros((M, N + 1))\n",
    "    \n",
    "    stock_paths[:, 0] = S0\n",
    "    v[:, 0] = v0\n",
    "    \n",
    "    # Generate correlated random numbers\n",
    "    epsilon1 = np.random.randn(M, N)\n",
    "    epsilon2 = rho * epsilon1 + np.sqrt(1 - rho ** 2) * np.random.randn(M, N)\n",
    "    \n",
    "    for i in range(1, N + 1):\n",
    "        sqrt_v = np.sqrt(np.maximum(0, v[:, i-1]))\n",
    "        \n",
    "        # Milstein correction term: 1/4 * theta^2 * (dW^2 - dt)\n",
    "        milstein_correction = 0.25 * theta**2 * (epsilon2[:, i-1]**2 - 1) * dt\n",
    "        \n",
    "        # Update variance with Milstein correction\n",
    "        v[:, i] = np.maximum(0, v[:, i-1] + kappa * (eta - v[:, i-1]) * dt \n",
    "                             + theta * sqrt_v * epsilon2[:, i-1] * np.sqrt(dt) \n",
    "                             + milstein_correction)\n",
    "        \n",
    "        # Update stock price using log-Euler\n",
    "        stock_paths[:, i] = stock_paths[:, i-1] * np.exp(\n",
    "            (r - q - 0.5 * v[:, i-1]) * dt + sqrt_v * epsilon1[:, i-1] * np.sqrt(dt)\n",
    "        )\n",
    "    \n",
    "    return stock_paths"
   ]
  },
  {
   "cell_type": "code",
   "execution_count": null,
   "metadata": {},
   "outputs": [],
   "source": [
    "def price_european_call_milstein(S0, K, r, q, v0, kappa, eta, theta, rho, T, N, M):\n",
    "    stock_paths = simulate_stock_paths_milstein(S0, r, q, v0, kappa, eta, theta, rho, T, N, M)\n",
    "    payoffs = np.maximum(stock_paths[:, -1] - K, 0)  # Use the last column\n",
    "    option_price = np.exp(-r * T) * np.mean(payoffs)\n",
    "    return option_price"
   ]
  },
  {
   "cell_type": "code",
   "execution_count": null,
   "metadata": {},
   "outputs": [],
   "source": [
    "# Compute prices for different strikes\n",
    "for K in [90, 100, 110]:\n",
    "    mc_price_milstein = price_european_call_milstein(S0, K, r, q, V0, kappa, eta, theta, rho, T, N, M)\n",
    "    print(f\"Milstein European Call Option Price (K={K}): {mc_price_milstein:.2f}\")"
   ]
  }
 ],
 "metadata": {
  "kernelspec": {
   "display_name": "venv",
   "language": "python",
   "name": "python3"
  },
  "language_info": {
   "codemirror_mode": {
    "name": "ipython",
    "version": 3
   },
   "file_extension": ".py",
   "mimetype": "text/x-python",
   "name": "python",
   "nbconvert_exporter": "python",
   "pygments_lexer": "ipython3",
   "version": "3.12.3"
  }
 },
 "nbformat": 4,
 "nbformat_minor": 2
}
