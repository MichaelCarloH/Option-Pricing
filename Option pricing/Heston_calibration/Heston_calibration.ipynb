{
 "cells": [
  {
   "cell_type": "markdown",
   "metadata": {},
   "source": [
    "## Notebook: Calibration of the Heston Model  \n",
    "\n",
    "This notebook focuses on pricing a **1-year call option** using the **Heston model** with the following parameters:  \n",
    "\n",
    "- $v_0 = \\sigma^2 = 0.05$  \n",
    "- $\\kappa = 0.5$  \n",
    "- $\\eta = 0.05$  \n",
    "- $\\theta = 0.2$  \n",
    "- $\\rho = -0.75$  \n",
    "- $S_0 = 100$  \n",
    "- $q = 0.01$ (dividend yield)  \n",
    "- $r = 0.05$ (risk-free rate)  \n",
    "\n",
    "### **Strike Prices**  \n",
    "We consider three different strike prices:  \n",
    "$$K = 90, 100, 110$$  \n",
    "\n",
    "### **Pricing Methods**  \n",
    "The option price is computed using the following methods:  \n",
    "1. **Fast Fourier Transform (FFT)** with Simpson’s rule *(see Example Session 2)*.  \n",
    "2. **Monte Carlo simulation** using the **Euler scheme**.  \n",
    "3. **Monte Carlo simulation** using the **Milstein scheme**.  \n"
   ]
  },
  {
   "cell_type": "code",
   "execution_count": 3,
   "metadata": {},
   "outputs": [],
   "source": [
    "# imports \n",
    "from  tiny_pricing_utils import *\n",
    "from scipy.interpolate import interp1d\n",
    "import numpy as np"
   ]
  },
  {
   "cell_type": "code",
   "execution_count": 4,
   "metadata": {},
   "outputs": [],
   "source": [
    "# Market data\n",
    "S0 = 100\n",
    "q = 0.01\n",
    "r = 0.05\n",
    "sigma = 0.25\n",
    "K = [90, 100, 110]\n",
    "T = 1"
   ]
  },
  {
   "cell_type": "code",
   "execution_count": 5,
   "metadata": {},
   "outputs": [],
   "source": [
    "# Hetson variables !!eta \n",
    "V0 = 0.05\n",
    "kappa = 0.5 \n",
    "eta = 0.05\n",
    "theta = 0.2\n",
    "rho = -0.75"
   ]
  },
  {
   "cell_type": "code",
   "execution_count": 6,
   "metadata": {},
   "outputs": [
    {
     "name": "stdout",
     "output_type": "stream",
     "text": [
      "0.006135923151542565\n",
      "12.566370614359172\n"
     ]
    }
   ],
   "source": [
    "# variables for FFT pricing (eta != eta_cm)\n",
    "eta_cm = 0.25\n",
    "N = 4096\n",
    "alpha = 1.5\n",
    "lambda_ = (2 * np.pi) / (N* eta_cm)\n",
    "b = (N * lambda_) / 2\n",
    "print(lambda_)\n",
    "print(b)"
   ]
  },
  {
   "cell_type": "code",
   "execution_count": 12,
   "metadata": {},
   "outputs": [
    {
     "name": "stdout",
     "output_type": "stream",
     "text": [
      "Interpolated Call Option Prices for K = [ 90 100 110] using Simpson's Rule: \n",
      " [16.93747985 10.6163149   5.86707143]\n"
     ]
    }
   ],
   "source": [
    "# Define a finer grid from the original strikes to interpolate on (from min to max log strike)\n",
    "log_strikes = np.arange(-b, b, lambda_)\n",
    "\n",
    "# Grid for the Fourier transform variable\n",
    "v = np.arange(0, N * eta_cm, eta_cm) \n",
    "u = v - (alpha + 1) * 1j\n",
    "\n",
    "# Define rho (g of x) using the characteristic function evaluated at (v - (alpha + 1) * i)\n",
    "rho_cm = np.exp(-r * T) * cf_Heston(u, S0, r, q, V0, kappa, eta, theta, rho, T) / \\\n",
    "    (alpha**2 + alpha - v**2 + 1j * (2 * alpha + 1) * v)\n",
    "\n",
    "# Simpson's Rule Coefficients\n",
    "simpson_1 = 1/3  # First coefficient\n",
    "simpson = (3 + (-1)**np.arange(2, N+1)) / 3  # Alternating coefficients starting from index 2\n",
    "simpson_int = np.concatenate(([simpson_1], simpson))  # Combine with the first coefficient\n",
    "\n",
    "# Apply Simpson's Rule correction in the FFT computation\n",
    "fft_result_simpson = np.fft.fft(np.exp(1j * v * b) * rho_cm * eta_cm * simpson_int)\n",
    "\n",
    "# Extract real part of the result\n",
    "a_simpson = np.real(fft_result_simpson)\n",
    "\n",
    "# Calculate call option prices using the Carr-Madan formula\n",
    "calls_simpson = (1 / np.pi) * np.exp(-alpha * log_strikes) * a_simpson\n",
    "\n",
    "# Reconstruct strike prices from log-strikes\n",
    "KK = np.exp(log_strikes)\n",
    "\n",
    "# Compute call prices using FFT pricing formula for both rules\n",
    "calls_simpson = (1 / np.pi) * np.exp(-alpha * log_strikes) * a_simpson\n",
    "\n",
    "# Define specific strike prices for interpolation\n",
    "specific_strikes = np.array([90, 100, 110])\n",
    "\n",
    "# Create cubic spline interpolation functions\n",
    "spline_simpson = interp1d(KK, calls_simpson, kind='cubic', fill_value=\"extrapolate\")\n",
    "\n",
    "# Get interpolated option prices for specific strikes\n",
    "interpolated_simpson = spline_simpson(specific_strikes)\n",
    "\n",
    "# Print results\n",
    "print(f\"Interpolated Call Option Prices for K = {specific_strikes} using Simpson's Rule: \\n {interpolated_simpson}\")\n"
   ]
  },
  {
   "cell_type": "code",
   "execution_count": null,
   "metadata": {},
   "outputs": [],
   "source": []
  }
 ],
 "metadata": {
  "kernelspec": {
   "display_name": "venv",
   "language": "python",
   "name": "python3"
  },
  "language_info": {
   "codemirror_mode": {
    "name": "ipython",
    "version": 3
   },
   "file_extension": ".py",
   "mimetype": "text/x-python",
   "name": "python",
   "nbconvert_exporter": "python",
   "pygments_lexer": "ipython3",
   "version": "3.12.3"
  }
 },
 "nbformat": 4,
 "nbformat_minor": 2
}
