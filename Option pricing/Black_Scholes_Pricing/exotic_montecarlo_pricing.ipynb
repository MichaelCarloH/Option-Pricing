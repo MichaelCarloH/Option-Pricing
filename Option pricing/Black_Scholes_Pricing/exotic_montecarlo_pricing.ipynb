{
 "cells": [
  {
   "cell_type": "markdown",
   "metadata": {},
   "source": [
    "# Stock price simulation in the Black-Scholes model\n",
    "\n",
    "In the Black-Scholes world, the stock price follows the SDE:\n",
    "$\n",
    "dS = (r − q)Sdt + σ SdW\n",
    "$\n",
    "\n",
    "Solution of the SDE:\n",
    "$\n",
    "S_t = S_0 \\exp \\left( \\left( r − q − \\frac{σ^2}{2} \\right) t + σ W_t \\right)\n",
    "$\n",
    "\n",
    "Discretization:\n",
    "$\n",
    "S(t_{k+1}) = S(t_k) \\exp \\left( \\left( r − q − \\frac{σ^2}{2} \\right) (t_{k+1} − t_k) + σ (W(t_{k+1}) − W(t_k)) \\right)\n",
    "$"
   ]
  },
  {
   "cell_type": "code",
   "execution_count": 17,
   "metadata": {},
   "outputs": [],
   "source": [
    "import numpy as np\n",
    "import pandas as pd\n",
    "import matplotlib.pyplot as plt"
   ]
  },
  {
   "cell_type": "code",
   "execution_count": 18,
   "metadata": {},
   "outputs": [],
   "source": [
    "# Read the data\n",
    "path = \"SP500_03_01_00.xls\"\n",
    "S0 = pd.read_excel(path, \"stock\")"
   ]
  },
  {
   "cell_type": "code",
   "execution_count": 19,
   "metadata": {},
   "outputs": [],
   "source": [
    "# Define parameters\n",
    "S0 = S0['price'].iloc[0] # Initial stock price\n",
    "K_exotic = 1500  # Strike price\n",
    "H = 1570  # Barrier level\n",
    "T_exotic = 47 / 365  # Time to maturity (47 days)\n",
    "sigma = 0.2228  # Volatility\n",
    "r_exotic = 0.0603  # Risk-free rate\n",
    "q = 0.0  # Dividend yield\n",
    "N = 47  # Number of time steps\n",
    "M_values = [1000, 10000, 100000]  # Different number of Monte Carlo paths"
   ]
  },
  {
   "cell_type": "code",
   "execution_count": null,
   "metadata": {},
   "outputs": [],
   "source": [
    "def simulate_stock_paths(S0, r, q, sigma,T, N, M):\n",
    "    dt = 1/365  # Time step size\n",
    "    stock_paths = np.zeros((M, N + 1))  # Store stock prices for all paths\n",
    "    stock_paths[:, 0] = S0  # Initial stock price\n",
    "    \n",
    "    # Generate random numbers for Brownian motion\n",
    "    Z = np.random.randn(M, N)\n",
    "    \n",
    "    for i in range(1, N + 1):\n",
    "        stock_paths[:, i] = stock_paths[:, i-1] * np.exp((r - q - 0.5 * sigma**2) * dt + sigma * np.sqrt(dt) * Z[:, i-1])\n",
    "    \n",
    "    return stock_paths"
   ]
  },
  {
   "cell_type": "code",
   "execution_count": 21,
   "metadata": {},
   "outputs": [],
   "source": [
    "def price_asian_call(S0, K, r, q, sigma, T, N, M):\n",
    "    stock_paths = simulate_stock_paths(S0, r, q, sigma, T, N, M)\n",
    "    average_prices = np.mean(stock_paths[:, 1:], axis=1)  # Average stock price per path\n",
    "    payoffs = np.maximum(average_prices - K, 0)\n",
    "    option_price = np.exp(-r * T) * np.mean(payoffs)\n",
    "    return option_price"
   ]
  },
  {
   "cell_type": "code",
   "execution_count": 22,
   "metadata": {},
   "outputs": [],
   "source": [
    "def price_up_and_in_put(S0, K, H, r, q, sigma, T, N, M):\n",
    "    stock_paths = simulate_stock_paths(S0, r, q, sigma, T, N, M)\n",
    "    \n",
    "    # Check if barrier was hit for each path\n",
    "    barrier_hit = np.any(stock_paths[:, 1:] >= H, axis=1)\n",
    "    payoffs = np.maximum(K - stock_paths[:, -1], 0) * barrier_hit\n",
    "    option_price = np.exp(-r * T) * np.mean(payoffs)\n",
    "    return option_price"
   ]
  },
  {
   "cell_type": "code",
   "execution_count": 23,
   "metadata": {},
   "outputs": [],
   "source": [
    "def price_up_and_out_put(S0, K, H, r, q, sigma, T, N, M):\n",
    "    stock_paths = simulate_stock_paths(S0, r, q, sigma, T, N, M)\n",
    "    \n",
    "    # Check if barrier was hit for each path\n",
    "    barrier_hit = np.any(stock_paths[:, 1:] >= H, axis=1)\n",
    "    payoffs = np.maximum(K - stock_paths[:, -1], 0) * (1 - barrier_hit)\n",
    "    option_price = np.exp(-r * T) * np.mean(payoffs)\n",
    "    return option_price"
   ]
  },
  {
   "cell_type": "code",
   "execution_count": 24,
   "metadata": {},
   "outputs": [
    {
     "name": "stdout",
     "output_type": "stream",
     "text": [
      "M = 1000\n",
      "Asian Call Option Price: 13.20\n",
      "Up-and-In Put Option Price: 2.39\n",
      "Up-and-Out Put Option Price: 65.08\n",
      "-\n",
      "M = 10000\n",
      "Asian Call Option Price: 12.27\n",
      "Up-and-In Put Option Price: 2.29\n",
      "Up-and-Out Put Option Price: 62.44\n",
      "-\n",
      "M = 100000\n",
      "Asian Call Option Price: 12.42\n",
      "Up-and-In Put Option Price: 2.14\n",
      "Up-and-Out Put Option Price: 63.47\n",
      "-\n"
     ]
    }
   ],
   "source": [
    "# Run simulations for different M values\n",
    "for M in M_values:\n",
    "    ac_price = price_asian_call(S0, K_exotic, r_exotic, q, sigma, T_exotic, N, M)\n",
    "    uibp_price = price_up_and_in_put(S0, K_exotic, H, r_exotic, q, sigma, T_exotic, N, M)\n",
    "    uobp_price = price_up_and_out_put(S0, K_exotic, H, r_exotic, q, sigma, T_exotic, N, M)\n",
    "    \n",
    "    print(f\"M = {M}\")\n",
    "    print(f\"Asian Call Option Price: {ac_price:.2f}\")\n",
    "    print(f\"Up-and-In Put Option Price: {uibp_price:.2f}\")\n",
    "    print(f\"Up-and-Out Put Option Price: {uobp_price:.2f}\")\n",
    "    print(\"-\")\n"
   ]
  }
 ],
 "metadata": {
  "kernelspec": {
   "display_name": "venv",
   "language": "python",
   "name": "python3"
  },
  "language_info": {
   "codemirror_mode": {
    "name": "ipython",
    "version": 3
   },
   "file_extension": ".py",
   "mimetype": "text/x-python",
   "name": "python",
   "nbconvert_exporter": "python",
   "pygments_lexer": "ipython3",
   "version": "3.12.3"
  }
 },
 "nbformat": 4,
 "nbformat_minor": 2
}
